{
 "cells": [
  {
   "cell_type": "code",
   "execution_count": 27,
   "metadata": {},
   "outputs": [],
   "source": [
    "import tensorflow as tf\n",
    "from tensorflow.keras import models, layers, applications\n",
    "import matplotlib.pyplot as plt\n",
    "from tensorflow.keras.callbacks import EarlyStopping"
   ]
  },
  {
   "cell_type": "code",
   "execution_count": 28,
   "metadata": {},
   "outputs": [],
   "source": [
    "# Constants\n",
    "IMAGE_SIZE = 299  # Adjusted for Inception v4\n",
    "BATCH_SIZE = 16\n",
    "CHANNELS = 3\n",
    "EPOCHS = 50\n"
   ]
  },
  {
   "cell_type": "code",
   "execution_count": 29,
   "metadata": {},
   "outputs": [
    {
     "name": "stdout",
     "output_type": "stream",
     "text": [
      "Found 1886 files belonging to 8 classes.\n"
     ]
    }
   ],
   "source": [
    "# Data Pipeline\n",
    "dataset = tf.keras.preprocessing.image_dataset_from_directory(\n",
    "    \"/Users/tanishkhot/Coding/BlindScan/Dataset/Final_Dataset_1800\",        #Chaneg it here\n",
    "    shuffle=True,\n",
    "    image_size=(IMAGE_SIZE, IMAGE_SIZE),\n",
    "    batch_size=BATCH_SIZE\n",
    ")\n"
   ]
  },
  {
   "cell_type": "code",
   "execution_count": 30,
   "metadata": {},
   "outputs": [],
   "source": [
    "# Function to partition dataset remains the same\n",
    "def partition_dataset(ds, train_split=0.8, val_split=0.1, test_split=0.1, shuffle=True, shuffle_size=10000):\n",
    "  if shuffle:\n",
    "    ds=ds.shuffle(shuffle_size, seed = 12)\n",
    "\n",
    "  ds_size = len(ds)\n",
    "  train_size = int(train_split*ds_size)\n",
    "  val_size = int(val_split*ds_size)\n",
    "\n",
    "  train_ds = ds.take(train_size)\n",
    "  val_ds = ds.skip(train_size).take(val_size)\n",
    "  test_ds = ds.skip(train_size).skip(val_size)\n",
    "  return train_ds, val_ds, test_ds\n",
    "\n",
    "train_ds, val_ds, test_ds = partition_dataset(dataset)"
   ]
  },
  {
   "cell_type": "code",
   "execution_count": 31,
   "metadata": {},
   "outputs": [],
   "source": [
    "# Data Preprocessing for Inception v4\n",
    "resize_and_rescale = tf.keras.Sequential([\n",
    "    layers.experimental.preprocessing.Rescaling(1.0/255),  # Inception v4 expects pixel values in [-1, 1]\n",
    "    layers.experimental.preprocessing.Resizing(299,299) \n",
    "])\n"
   ]
  },
  {
   "cell_type": "code",
   "execution_count": 32,
   "metadata": {},
   "outputs": [],
   "source": [
    "# Prepare the datasets\n",
    "train_ds = train_ds.cache().shuffle(1000).prefetch(buffer_size=tf.data.AUTOTUNE)\n",
    "val_ds = val_ds.cache().prefetch(buffer_size=tf.data.AUTOTUNE)\n",
    "test_ds = test_ds.cache().prefetch(buffer_size=tf.data.AUTOTUNE)\n"
   ]
  },
  {
   "cell_type": "code",
   "execution_count": 33,
   "metadata": {},
   "outputs": [],
   "source": [
    "# Load InceptionV4 model pre-trained on ImageNet\n",
    "base_model = applications.InceptionV3(include_top=False, weights='imagenet', input_shape=(IMAGE_SIZE, IMAGE_SIZE, CHANNELS))\n",
    "base_model.trainable = False  # Freeze the base model"
   ]
  },
  {
   "cell_type": "code",
   "execution_count": 34,
   "metadata": {},
   "outputs": [],
   "source": [
    "# Custom layers on top of Inception v4\n",
    "model = models.Sequential([\n",
    "    resize_and_rescale,\n",
    "    base_model,\n",
    "    layers.GlobalAveragePooling2D(),\n",
    "    layers.Dense(64, activation='relu'),\n",
    "    layers.Dense(8, activation='softmax')  # Assuming 8 classes for note classification\n",
    "])\n"
   ]
  },
  {
   "cell_type": "code",
   "execution_count": 35,
   "metadata": {},
   "outputs": [],
   "source": [
    "model.compile(\n",
    "    optimizer='adam',\n",
    "    loss=tf.keras.losses.SparseCategoricalCrossentropy(from_logits=False),\n",
    "    metrics=['accuracy']\n",
    ")\n"
   ]
  },
  {
   "cell_type": "code",
   "execution_count": 36,
   "metadata": {},
   "outputs": [],
   "source": [
    "\n",
    "# EarlyStopping callback\n",
    "early_stopping = EarlyStopping(\n",
    "    monitor='val_loss',  # Monitor the validation loss\n",
    "    patience=10,         # Stop if no improvement after 10 epochs\n",
    "    restore_best_weights=True  # Restore model weights from the epoch with the best value of the monitored metric.\n",
    ")\n"
   ]
  },
  {
   "cell_type": "code",
   "execution_count": 37,
   "metadata": {},
   "outputs": [
    {
     "name": "stdout",
     "output_type": "stream",
     "text": [
      "Epoch 1/50\n",
      "94/94 [==============================] - 197s 2s/step - loss: 1.4071 - accuracy: 0.5153 - val_loss: 0.9405 - val_accuracy: 0.6761\n",
      "Epoch 2/50\n",
      "94/94 [==============================] - 176s 2s/step - loss: 0.6599 - accuracy: 0.7976 - val_loss: 0.4981 - val_accuracy: 0.8693\n",
      "Epoch 3/50\n",
      "94/94 [==============================] - 145s 2s/step - loss: 0.4092 - accuracy: 0.8915 - val_loss: 0.4491 - val_accuracy: 0.8750\n",
      "Epoch 4/50\n",
      "94/94 [==============================] - 149s 2s/step - loss: 0.2881 - accuracy: 0.9354 - val_loss: 0.3540 - val_accuracy: 0.8807\n",
      "Epoch 5/50\n",
      "94/94 [==============================] - 171s 2s/step - loss: 0.2217 - accuracy: 0.9447 - val_loss: 0.2912 - val_accuracy: 0.9205\n",
      "Epoch 6/50\n",
      "94/94 [==============================] - 165s 2s/step - loss: 0.1513 - accuracy: 0.9754 - val_loss: 0.2106 - val_accuracy: 0.9261\n",
      "Epoch 7/50\n",
      "94/94 [==============================] - 165s 2s/step - loss: 0.1199 - accuracy: 0.9834 - val_loss: 0.2397 - val_accuracy: 0.9091\n",
      "Epoch 8/50\n",
      "36/94 [==========>...................] - ETA: 1:45 - loss: 0.0829 - accuracy: 0.9913"
     ]
    }
   ],
   "source": [
    "history = model.fit(\n",
    "    train_ds,\n",
    "    validation_data=val_ds,\n",
    "    epochs=EPOCHS,\n",
    "    verbose=1\n",
    ")\n"
   ]
  },
  {
   "cell_type": "code",
   "execution_count": null,
   "metadata": {},
   "outputs": [],
   "source": [
    "acc = history.history['accuracy']\n",
    "val_acc = history.history['val_accuracy']\n",
    "\n",
    "loss = history.history['loss']\n",
    "val_loss = history.history['val_loss']"
   ]
  },
  {
   "cell_type": "code",
   "execution_count": null,
   "metadata": {},
   "outputs": [],
   "source": [
    "plt.figure(figsize=(8,8))\n",
    "plt.subplot(1,2,1)\n",
    "plt.plot(range(EPOCHS), acc, label='Training Accuracy')\n",
    "plt.plot(range(EPOCHS), val_acc, label='Validation Accuracy')\n",
    "plt.legend(loc='lower right')\n",
    "plt.title('Training And Validation Accuracy')\n",
    "\n",
    "plt.subplot(1,2,2)\n",
    "plt.plot(range(EPOCHS), loss, label='Training Loss')\n",
    "plt.plot(range(EPOCHS), val_loss, label='Validation Loss')\n",
    "plt.legend(loc='upper right')\n",
    "plt.title('Training And Validation Loss')\n"
   ]
  },
  {
   "cell_type": "code",
   "execution_count": null,
   "metadata": {},
   "outputs": [],
   "source": [
    "model.save('my_inceptionv4_model.h5')"
   ]
  }
 ],
 "metadata": {
  "kernelspec": {
   "display_name": "Python 3",
   "language": "python",
   "name": "python3"
  },
  "language_info": {
   "codemirror_mode": {
    "name": "ipython",
    "version": 3
   },
   "file_extension": ".py",
   "mimetype": "text/x-python",
   "name": "python",
   "nbconvert_exporter": "python",
   "pygments_lexer": "ipython3",
   "version": "3.9.6"
  }
 },
 "nbformat": 4,
 "nbformat_minor": 2
}
